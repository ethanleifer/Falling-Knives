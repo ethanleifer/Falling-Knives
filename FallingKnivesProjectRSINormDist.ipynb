{
 "metadata": {
  "language_info": {
   "codemirror_mode": {
    "name": "ipython",
    "version": 3
   },
   "file_extension": ".py",
   "mimetype": "text/x-python",
   "name": "python",
   "nbconvert_exporter": "python",
   "pygments_lexer": "ipython3",
   "version": "3.7.4-final"
  },
  "orig_nbformat": 2,
  "kernelspec": {
   "name": "python_defaultSpec_1595874233161",
   "display_name": "Python 3.7.4 64-bit"
  }
 },
 "nbformat": 4,
 "nbformat_minor": 2,
 "cells": [
  {
   "cell_type": "code",
   "execution_count": 8,
   "metadata": {},
   "outputs": [],
   "source": [
    "import pandas as pd\n",
    "import numpy as np\n",
    "import matplotlib.pyplot as plt\n",
    "import matplotlib as style\n",
    "import matplotlib.dates as mdates\n",
    "import plotly.graph_objs as go\n",
    "from plotly.subplots import make_subplots\n",
    "'''\n",
    "from ta.momentum import RSIIndicator, StochasticOscillator\n",
    "from ta.trend import MACD\n",
    "from ta.volatility import BollingerBands\n",
    "from datetime import datetime, timedelta\n",
    "from scipy.stats import norm\n",
    "'''\n",
    "SP_500_database = pd.read_csv(\"database2.csv\", index_col=0).round(2)"
   ]
  },
  {
   "cell_type": "code",
   "execution_count": 6,
   "metadata": {},
   "outputs": [
    {
     "output_type": "execute_result",
     "data": {
      "text/plain": "              Open    High     Low   Close      Volume  Dividends  \\\nDate                                                                \n1986-03-13    0.06    0.06    0.06    0.06  1031788800        0.0   \n1986-03-14    0.06    0.07    0.06    0.06   308160000        0.0   \n1986-03-17    0.06    0.07    0.06    0.07   133171200        0.0   \n1986-03-18    0.07    0.07    0.06    0.06    67766400        0.0   \n1986-03-19    0.06    0.06    0.06    0.06    47894400        0.0   \n...            ...     ...     ...     ...         ...        ...   \n2020-07-21  213.66  213.94  208.03  208.75    38105800        0.0   \n2020-07-22  209.20  212.30  208.39  211.75    49605700        0.0   \n2020-07-23  207.19  210.92  202.15  202.54    67457000        0.0   \n2020-07-24  200.42  202.86  197.51  201.30    39799500        0.0   \n2020-07-27  201.47  203.48  200.86  203.37    19714287        0.0   \n\n            Stock Splits  \nDate                      \n1986-03-13           0.0  \n1986-03-14           0.0  \n1986-03-17           0.0  \n1986-03-18           0.0  \n1986-03-19           0.0  \n...                  ...  \n2020-07-21           0.0  \n2020-07-22           0.0  \n2020-07-23           0.0  \n2020-07-24           0.0  \n2020-07-27           0.0  \n\n[8664 rows x 7 columns]",
      "text/html": "<div>\n<style scoped>\n    .dataframe tbody tr th:only-of-type {\n        vertical-align: middle;\n    }\n\n    .dataframe tbody tr th {\n        vertical-align: top;\n    }\n\n    .dataframe thead th {\n        text-align: right;\n    }\n</style>\n<table border=\"1\" class=\"dataframe\">\n  <thead>\n    <tr style=\"text-align: right;\">\n      <th></th>\n      <th>Open</th>\n      <th>High</th>\n      <th>Low</th>\n      <th>Close</th>\n      <th>Volume</th>\n      <th>Dividends</th>\n      <th>Stock Splits</th>\n    </tr>\n    <tr>\n      <th>Date</th>\n      <th></th>\n      <th></th>\n      <th></th>\n      <th></th>\n      <th></th>\n      <th></th>\n      <th></th>\n    </tr>\n  </thead>\n  <tbody>\n    <tr>\n      <th>1986-03-13</th>\n      <td>0.06</td>\n      <td>0.06</td>\n      <td>0.06</td>\n      <td>0.06</td>\n      <td>1031788800</td>\n      <td>0.0</td>\n      <td>0.0</td>\n    </tr>\n    <tr>\n      <th>1986-03-14</th>\n      <td>0.06</td>\n      <td>0.07</td>\n      <td>0.06</td>\n      <td>0.06</td>\n      <td>308160000</td>\n      <td>0.0</td>\n      <td>0.0</td>\n    </tr>\n    <tr>\n      <th>1986-03-17</th>\n      <td>0.06</td>\n      <td>0.07</td>\n      <td>0.06</td>\n      <td>0.07</td>\n      <td>133171200</td>\n      <td>0.0</td>\n      <td>0.0</td>\n    </tr>\n    <tr>\n      <th>1986-03-18</th>\n      <td>0.07</td>\n      <td>0.07</td>\n      <td>0.06</td>\n      <td>0.06</td>\n      <td>67766400</td>\n      <td>0.0</td>\n      <td>0.0</td>\n    </tr>\n    <tr>\n      <th>1986-03-19</th>\n      <td>0.06</td>\n      <td>0.06</td>\n      <td>0.06</td>\n      <td>0.06</td>\n      <td>47894400</td>\n      <td>0.0</td>\n      <td>0.0</td>\n    </tr>\n    <tr>\n      <th>...</th>\n      <td>...</td>\n      <td>...</td>\n      <td>...</td>\n      <td>...</td>\n      <td>...</td>\n      <td>...</td>\n      <td>...</td>\n    </tr>\n    <tr>\n      <th>2020-07-21</th>\n      <td>213.66</td>\n      <td>213.94</td>\n      <td>208.03</td>\n      <td>208.75</td>\n      <td>38105800</td>\n      <td>0.0</td>\n      <td>0.0</td>\n    </tr>\n    <tr>\n      <th>2020-07-22</th>\n      <td>209.20</td>\n      <td>212.30</td>\n      <td>208.39</td>\n      <td>211.75</td>\n      <td>49605700</td>\n      <td>0.0</td>\n      <td>0.0</td>\n    </tr>\n    <tr>\n      <th>2020-07-23</th>\n      <td>207.19</td>\n      <td>210.92</td>\n      <td>202.15</td>\n      <td>202.54</td>\n      <td>67457000</td>\n      <td>0.0</td>\n      <td>0.0</td>\n    </tr>\n    <tr>\n      <th>2020-07-24</th>\n      <td>200.42</td>\n      <td>202.86</td>\n      <td>197.51</td>\n      <td>201.30</td>\n      <td>39799500</td>\n      <td>0.0</td>\n      <td>0.0</td>\n    </tr>\n    <tr>\n      <th>2020-07-27</th>\n      <td>201.47</td>\n      <td>203.48</td>\n      <td>200.86</td>\n      <td>203.37</td>\n      <td>19714287</td>\n      <td>0.0</td>\n      <td>0.0</td>\n    </tr>\n  </tbody>\n</table>\n<p>8664 rows × 7 columns</p>\n</div>"
     },
     "metadata": {},
     "execution_count": 6
    }
   ],
   "source": [
    "import yfinance as yf\n",
    "msft=yf.Ticker('MSFT')\n",
    "msft_data = msft.history(period='max')\n",
    "msft_data"
   ]
  },
  {
   "cell_type": "markdown",
   "metadata": {},
   "source": [
    "Everytime you edit any cell click run on that cell"
   ]
  },
  {
   "cell_type": "markdown",
   "metadata": {},
   "source": [
    "# user inputs: "
   ]
  },
  {
   "cell_type": "code",
   "execution_count": 9,
   "metadata": {
    "tags": []
   },
   "outputs": [],
   "source": [
    "ticker = \"AAPL\" # Uppercase stock ticker in the S&P 500\n",
    "\n",
    "start_date = '01-01-2019' # Enter start date in format 'MM-DD-YYYY'\n",
    "end_date = '01-01-2020' # Enter end date in format 'MM-DD-YYYY'\n",
    "\n",
    "enable_RSI = False # True to filter based on RSI condition, False to not filter\n",
    "RSI_period = 14 # parameter period for RSI\n",
    "# RSI_conditional_value = 40  # To be considered a falling knife RSI has to be outside of this value (oversold value)\n",
    "show_RSI_overbought_line = True # shows a straight line to visualize the overbought value (100 - RSI_conditional_value)\n",
    "show_RSI_oversold_line = True # shows a straight line to visualize the oversold value (RSI_conditional_value)\n",
    "\n",
    "enable_MACD = False # True to filter based on MACD condition, False to not filter\n",
    "MACD_short_term_period = 12 # parameter for short term period for MACD\n",
    "MACD_long_term_period = 26 # parameter for long term period for MACD\n",
    "MACD_signal_period = 9 # parameter for signal period for MACD\n",
    "MACD_conditional_value = -.01 # To be considered a falling knife MACD has to be outside of this value\n",
    "show_MACD_signal_line = True # True to graph the MACD signal line\n",
    "\n",
    "enable_RETURN = False # True to filter and graph based on return condition, False to not filter\n",
    "RETURN_conditional_value = -.025 # To be considered a falling knife the percentage change of the stock has to be less than this value\n",
    "\n",
    "enable_BOLLINGER_BANDS = True # True to filter and graph based on return condition, False to not filter\n",
    "BOLLINGER_BANDS_period = 20 # number of days in smoothing period (usually 20)\n",
    "BOLLINGER_BANDS_std = 2 # number of standard deviations (usually 2)\n",
    "\n",
    "\n",
    "\n",
    "enable_STOCHASTICOSCILLATOR = False\n",
    "STOCHASTICOSCILLATOR_period = 14\n",
    "STOCHASTICOSCILLATOR_sma_period = 3\n",
    "STOCHASTICOSCILLATOR_conditional_value = 20\n",
    "show_STOCHASTICOSCILLATOR_signal_line = False\n",
    "\n",
    "\n",
    "\n",
    "graph_RSI = False # True to graph, False to not\n",
    "graph_closing_price = False # True to graph, False to not graph"
   ]
  },
  {
   "cell_type": "markdown",
   "metadata": {},
   "source": [
    "# user should only click run on the cells below.  DO NOT EDIT CELLS BELOW UNLESS YOU KNOW WHAT YOU ARE EDITING"
   ]
  },
  {
   "cell_type": "markdown",
   "metadata": {},
   "source": [
    "Run this next cell every time you edit some thing in the user input cell"
   ]
  },
  {
   "cell_type": "code",
   "execution_count": 10,
   "metadata": {
    "tags": []
   },
   "outputs": [
    {
     "output_type": "error",
     "ename": "KeyError",
     "evalue": "'Ticker'",
     "traceback": [
      "\u001b[0;31m---------------------------------------------------------------------------\u001b[0m",
      "\u001b[0;31mKeyError\u001b[0m                                  Traceback (most recent call last)",
      "\u001b[0;32m/Library/Frameworks/Python.framework/Versions/3.7/lib/python3.7/site-packages/pandas/core/indexes/base.py\u001b[0m in \u001b[0;36mget_loc\u001b[0;34m(self, key, method, tolerance)\u001b[0m\n\u001b[1;32m   2645\u001b[0m             \u001b[0;32mtry\u001b[0m\u001b[0;34m:\u001b[0m\u001b[0;34m\u001b[0m\u001b[0;34m\u001b[0m\u001b[0m\n\u001b[0;32m-> 2646\u001b[0;31m                 \u001b[0;32mreturn\u001b[0m \u001b[0mself\u001b[0m\u001b[0;34m.\u001b[0m\u001b[0m_engine\u001b[0m\u001b[0;34m.\u001b[0m\u001b[0mget_loc\u001b[0m\u001b[0;34m(\u001b[0m\u001b[0mkey\u001b[0m\u001b[0;34m)\u001b[0m\u001b[0;34m\u001b[0m\u001b[0;34m\u001b[0m\u001b[0m\n\u001b[0m\u001b[1;32m   2647\u001b[0m             \u001b[0;32mexcept\u001b[0m \u001b[0mKeyError\u001b[0m\u001b[0;34m:\u001b[0m\u001b[0;34m\u001b[0m\u001b[0;34m\u001b[0m\u001b[0m\n",
      "\u001b[0;32mpandas/_libs/index.pyx\u001b[0m in \u001b[0;36mpandas._libs.index.IndexEngine.get_loc\u001b[0;34m()\u001b[0m\n",
      "\u001b[0;32mpandas/_libs/index.pyx\u001b[0m in \u001b[0;36mpandas._libs.index.IndexEngine.get_loc\u001b[0;34m()\u001b[0m\n",
      "\u001b[0;32mpandas/_libs/hashtable_class_helper.pxi\u001b[0m in \u001b[0;36mpandas._libs.hashtable.PyObjectHashTable.get_item\u001b[0;34m()\u001b[0m\n",
      "\u001b[0;32mpandas/_libs/hashtable_class_helper.pxi\u001b[0m in \u001b[0;36mpandas._libs.hashtable.PyObjectHashTable.get_item\u001b[0;34m()\u001b[0m\n",
      "\u001b[0;31mKeyError\u001b[0m: 'Ticker'",
      "\nDuring handling of the above exception, another exception occurred:\n",
      "\u001b[0;31mKeyError\u001b[0m                                  Traceback (most recent call last)",
      "\u001b[0;32m<ipython-input-10-940d075bee96>\u001b[0m in \u001b[0;36m<module>\u001b[0;34m\u001b[0m\n\u001b[1;32m      1\u001b[0m \u001b[0;31m# cleans aznd reformats the database based on the ticker\u001b[0m\u001b[0;34m\u001b[0m\u001b[0;34m\u001b[0m\u001b[0;34m\u001b[0m\u001b[0m\n\u001b[0;32m----> 2\u001b[0;31m \u001b[0mticker_database\u001b[0m \u001b[0;34m=\u001b[0m \u001b[0mSP_500_database\u001b[0m\u001b[0;34m[\u001b[0m\u001b[0mSP_500_database\u001b[0m\u001b[0;34m[\u001b[0m\u001b[0;34m\"Ticker\"\u001b[0m\u001b[0;34m]\u001b[0m\u001b[0;34m==\u001b[0m\u001b[0mticker\u001b[0m\u001b[0;34m]\u001b[0m\u001b[0;34m\u001b[0m\u001b[0;34m\u001b[0m\u001b[0m\n\u001b[0m\u001b[1;32m      3\u001b[0m \u001b[0mticker_database\u001b[0m\u001b[0;34m[\u001b[0m\u001b[0;34m'Date'\u001b[0m\u001b[0;34m]\u001b[0m \u001b[0;34m=\u001b[0m \u001b[0mpd\u001b[0m\u001b[0;34m.\u001b[0m\u001b[0mto_datetime\u001b[0m\u001b[0;34m(\u001b[0m\u001b[0mticker_database\u001b[0m\u001b[0;34m[\u001b[0m\u001b[0;34m'Date'\u001b[0m\u001b[0;34m]\u001b[0m\u001b[0;34m)\u001b[0m\u001b[0;34m\u001b[0m\u001b[0;34m\u001b[0m\u001b[0m\n\u001b[1;32m      4\u001b[0m \u001b[0;34m\u001b[0m\u001b[0m\n\u001b[1;32m      5\u001b[0m \u001b[0;31m#print(ticker_database.head(-5))\u001b[0m\u001b[0;34m\u001b[0m\u001b[0;34m\u001b[0m\u001b[0;34m\u001b[0m\u001b[0m\n",
      "\u001b[0;32m/Library/Frameworks/Python.framework/Versions/3.7/lib/python3.7/site-packages/pandas/core/frame.py\u001b[0m in \u001b[0;36m__getitem__\u001b[0;34m(self, key)\u001b[0m\n\u001b[1;32m   2798\u001b[0m             \u001b[0;32mif\u001b[0m \u001b[0mself\u001b[0m\u001b[0;34m.\u001b[0m\u001b[0mcolumns\u001b[0m\u001b[0;34m.\u001b[0m\u001b[0mnlevels\u001b[0m \u001b[0;34m>\u001b[0m \u001b[0;36m1\u001b[0m\u001b[0;34m:\u001b[0m\u001b[0;34m\u001b[0m\u001b[0;34m\u001b[0m\u001b[0m\n\u001b[1;32m   2799\u001b[0m                 \u001b[0;32mreturn\u001b[0m \u001b[0mself\u001b[0m\u001b[0;34m.\u001b[0m\u001b[0m_getitem_multilevel\u001b[0m\u001b[0;34m(\u001b[0m\u001b[0mkey\u001b[0m\u001b[0;34m)\u001b[0m\u001b[0;34m\u001b[0m\u001b[0;34m\u001b[0m\u001b[0m\n\u001b[0;32m-> 2800\u001b[0;31m             \u001b[0mindexer\u001b[0m \u001b[0;34m=\u001b[0m \u001b[0mself\u001b[0m\u001b[0;34m.\u001b[0m\u001b[0mcolumns\u001b[0m\u001b[0;34m.\u001b[0m\u001b[0mget_loc\u001b[0m\u001b[0;34m(\u001b[0m\u001b[0mkey\u001b[0m\u001b[0;34m)\u001b[0m\u001b[0;34m\u001b[0m\u001b[0;34m\u001b[0m\u001b[0m\n\u001b[0m\u001b[1;32m   2801\u001b[0m             \u001b[0;32mif\u001b[0m \u001b[0mis_integer\u001b[0m\u001b[0;34m(\u001b[0m\u001b[0mindexer\u001b[0m\u001b[0;34m)\u001b[0m\u001b[0;34m:\u001b[0m\u001b[0;34m\u001b[0m\u001b[0;34m\u001b[0m\u001b[0m\n\u001b[1;32m   2802\u001b[0m                 \u001b[0mindexer\u001b[0m \u001b[0;34m=\u001b[0m \u001b[0;34m[\u001b[0m\u001b[0mindexer\u001b[0m\u001b[0;34m]\u001b[0m\u001b[0;34m\u001b[0m\u001b[0;34m\u001b[0m\u001b[0m\n",
      "\u001b[0;32m/Library/Frameworks/Python.framework/Versions/3.7/lib/python3.7/site-packages/pandas/core/indexes/base.py\u001b[0m in \u001b[0;36mget_loc\u001b[0;34m(self, key, method, tolerance)\u001b[0m\n\u001b[1;32m   2646\u001b[0m                 \u001b[0;32mreturn\u001b[0m \u001b[0mself\u001b[0m\u001b[0;34m.\u001b[0m\u001b[0m_engine\u001b[0m\u001b[0;34m.\u001b[0m\u001b[0mget_loc\u001b[0m\u001b[0;34m(\u001b[0m\u001b[0mkey\u001b[0m\u001b[0;34m)\u001b[0m\u001b[0;34m\u001b[0m\u001b[0;34m\u001b[0m\u001b[0m\n\u001b[1;32m   2647\u001b[0m             \u001b[0;32mexcept\u001b[0m \u001b[0mKeyError\u001b[0m\u001b[0;34m:\u001b[0m\u001b[0;34m\u001b[0m\u001b[0;34m\u001b[0m\u001b[0m\n\u001b[0;32m-> 2648\u001b[0;31m                 \u001b[0;32mreturn\u001b[0m \u001b[0mself\u001b[0m\u001b[0;34m.\u001b[0m\u001b[0m_engine\u001b[0m\u001b[0;34m.\u001b[0m\u001b[0mget_loc\u001b[0m\u001b[0;34m(\u001b[0m\u001b[0mself\u001b[0m\u001b[0;34m.\u001b[0m\u001b[0m_maybe_cast_indexer\u001b[0m\u001b[0;34m(\u001b[0m\u001b[0mkey\u001b[0m\u001b[0;34m)\u001b[0m\u001b[0;34m)\u001b[0m\u001b[0;34m\u001b[0m\u001b[0;34m\u001b[0m\u001b[0m\n\u001b[0m\u001b[1;32m   2649\u001b[0m         \u001b[0mindexer\u001b[0m \u001b[0;34m=\u001b[0m \u001b[0mself\u001b[0m\u001b[0;34m.\u001b[0m\u001b[0mget_indexer\u001b[0m\u001b[0;34m(\u001b[0m\u001b[0;34m[\u001b[0m\u001b[0mkey\u001b[0m\u001b[0;34m]\u001b[0m\u001b[0;34m,\u001b[0m \u001b[0mmethod\u001b[0m\u001b[0;34m=\u001b[0m\u001b[0mmethod\u001b[0m\u001b[0;34m,\u001b[0m \u001b[0mtolerance\u001b[0m\u001b[0;34m=\u001b[0m\u001b[0mtolerance\u001b[0m\u001b[0;34m)\u001b[0m\u001b[0;34m\u001b[0m\u001b[0;34m\u001b[0m\u001b[0m\n\u001b[1;32m   2650\u001b[0m         \u001b[0;32mif\u001b[0m \u001b[0mindexer\u001b[0m\u001b[0;34m.\u001b[0m\u001b[0mndim\u001b[0m \u001b[0;34m>\u001b[0m \u001b[0;36m1\u001b[0m \u001b[0;32mor\u001b[0m \u001b[0mindexer\u001b[0m\u001b[0;34m.\u001b[0m\u001b[0msize\u001b[0m \u001b[0;34m>\u001b[0m \u001b[0;36m1\u001b[0m\u001b[0;34m:\u001b[0m\u001b[0;34m\u001b[0m\u001b[0;34m\u001b[0m\u001b[0m\n",
      "\u001b[0;32mpandas/_libs/index.pyx\u001b[0m in \u001b[0;36mpandas._libs.index.IndexEngine.get_loc\u001b[0;34m()\u001b[0m\n",
      "\u001b[0;32mpandas/_libs/index.pyx\u001b[0m in \u001b[0;36mpandas._libs.index.IndexEngine.get_loc\u001b[0;34m()\u001b[0m\n",
      "\u001b[0;32mpandas/_libs/hashtable_class_helper.pxi\u001b[0m in \u001b[0;36mpandas._libs.hashtable.PyObjectHashTable.get_item\u001b[0;34m()\u001b[0m\n",
      "\u001b[0;32mpandas/_libs/hashtable_class_helper.pxi\u001b[0m in \u001b[0;36mpandas._libs.hashtable.PyObjectHashTable.get_item\u001b[0;34m()\u001b[0m\n",
      "\u001b[0;31mKeyError\u001b[0m: 'Ticker'"
     ]
    }
   ],
   "source": [
    "# cleans aznd reformats the database based on the ticker\n",
    "ticker_database = SP_500_database[SP_500_database[\"Ticker\"]==ticker]\n",
    "ticker_database['Date'] = pd.to_datetime(ticker_database['Date'])\n",
    "\n",
    "#print(ticker_database.head(-5))\n",
    "#filters database based on your choosen start and end date\n",
    "#print(ticker_database.head(-5))\n",
    "\n",
    "\n",
    "\n",
    "# creates indicator data\n",
    "ticker_database['MACD'] = MACD(ticker_database[\"Adj Close\"], n_slow=MACD_short_term_period, n_fast=MACD_long_term_period, n_sign=MACD_signal_period).macd()\n",
    "ticker_database['MACD Signal'] = MACD(ticker_database[\"Adj Close\"], n_slow=MACD_short_term_period, n_fast=MACD_long_term_period, n_sign=MACD_signal_period).macd_signal()\n",
    "\n",
    "\n",
    "ticker_database['RSI'] = RSIIndicator(ticker_database[\"Adj Close\"], RSI_period).rsi()\n",
    "\n",
    "ticker_database['Return'] = ticker_database[\"Adj Close\"].pct_change()\n",
    "\n",
    "\n",
    "ticker_database['Stochastic Oscillator'] = StochasticOscillator(high=ticker_database['High'], low=ticker_database['Low'], close=ticker_database['Adj Close'], n=STOCHASTICOSCILLATOR_period, d_n=STOCHASTICOSCILLATOR_sma_period).stoch()\n",
    "\n",
    "BB = BollingerBands(ticker_database['Adj Close'], BOLLINGER_BANDS_period, BOLLINGER_BANDS_std)\n",
    "ticker_database['Bollinger Bands High'] = BB.bollinger_hband()\n",
    "ticker_database['Bollinger Bands Low'] = BB.bollinger_lband()\n",
    "\n",
    "\n",
    "ticker_database = ticker_database.loc[start_date:end_date]\n",
    "\n",
    "ticker_database['RSI Conditional Value'] = 100 - norm.ppf(.95, np.mean(ticker_database['RSI']), np.std(ticker_database['RSI']))\n",
    "print(RSI_conditional_value)\n",
    "\n",
    "\n",
    "ticker_database_filtered = ticker_database\n",
    "\n",
    "# these are the condition statements below: I couldnt figure out how to keep them in one line so..\n",
    "print(\"\\nfiltering data based on conditions...\")\n",
    "\n",
    "if enable_RSI:\n",
    "    ticker_database_filtered = ticker_database_filtered[ticker_database_filtered['RSI'] < RSI_conditional_value]\n",
    "\n",
    "if enable_MACD:\n",
    "    ticker_database_filtered = ticker_database_filtered[ticker_database_filtered[\"MACD\"] <= MACD_conditional_value]\n",
    "\n",
    "if enable_RETURN:\n",
    "    ticker_database_filtered = ticker_database_filtered[ticker_database_filtered[\"Return\"] <= RETURN_conditional_value]\n",
    "\n",
    "if enable_STOCHASTICOSCILLATOR:\n",
    "    ticker_database_filtered = ticker_database_filtered[ticker_database_filtered['Stochastic Oscillator']  <= STOCHASTICOSCILLATOR_conditional_value]\n",
    "\n",
    "\n",
    "\n",
    "\n",
    "# fallingKniveDf = df[df['Adj Close'] < df['SMA']]\n",
    "\n",
    "print(\"There are \" + str(len(ticker_database_filtered)) + \" falling knives\")\n",
    "print(ticker_database_filtered)\n"
   ]
  },
  {
   "cell_type": "markdown",
   "metadata": {},
   "source": [
    "This next cell manages the graphing"
   ]
  },
  {
   "cell_type": "code",
   "execution_count": null,
   "metadata": {},
   "outputs": [],
   "source": [
    "# Create figure\n",
    "fig = make_subplots(rows=4, cols=1, shared_xaxes=True, row_heights=[.15, .15, .15, .55])\n",
    "\n",
    "#1. vwap\n",
    "'''\n",
    "fig.add_trace(go.Scatter(x=ticker_database.index, y=ticker_database['Bollinger Bands High'],\n",
    "                    name='Bollinger Bands High'),\n",
    "                    row=1, col=1)\n",
    "\n",
    "fig.add_trace(go.Scatter(x=ticker_database_filtered.index, y=ticker_database_filtered['Bollinger Bands Low'],\n",
    "                    name='Bollinger Bands High'),\n",
    "                    row=1, col=1)\n",
    "\n",
    "fig.add_trace(go.Scatter(x=ticker_database_filtered.index, y=ticker_database_filtered['Bollinger Bands Low'],\n",
    "                    name='Bollinger Bands High'),\n",
    "                    row=1, col=1)\n",
    "\n",
    "'''\n",
    "fig.add_trace(go.Scatter(x=ticker_database.index, y=ticker_database['RSI'],\n",
    "                    name='RSI'),\n",
    "                    row=2, col=1)\n",
    "\n",
    "fig.add_trace(go.Scatter(x=ticker_database_filtered.index, y=ticker_database_filtered['RSI'],\n",
    "                    mode='markers',\n",
    "                    name='fn RSI'),\n",
    "                    row=2, col=1)\n",
    "if show_RSI_overbought_line:\n",
    "    fig.add_trace(go.Scatter(x=[ticker_database.index.min(), ticker_database.index.max()], y=[100 - RSI_conditional_value, 100 - RSI_conditional_value],\n",
    "                    name='RSI overbought'),\n",
    "                    row=2, col=1)\n",
    "if show_RSI_oversold_line:\n",
    "    fig.add_trace(go.Scatter(x=[ticker_database.index.min(), ticker_database.index.max()], y=[RSI_conditional_value, RSI_conditional_value],\n",
    "                    name='RSI oversold'),\n",
    "                    row=2, col=1)\n",
    "\n",
    "\n",
    "fig.add_trace(go.Scatter(x=ticker_database.index, y=ticker_database['MACD'], \n",
    "                    name='MACD'), \n",
    "                    row=3, col=1)\n",
    "if show_MACD_signal_line:\n",
    "    fig.add_trace(go.Scatter(x=ticker_database.index, y=ticker_database['MACD Signal'], \n",
    "                    name='MACD Signal'), \n",
    "                    row=3, col=1)\n",
    "\n",
    "\n",
    "fig.add_trace(go.Scatter(x=ticker_database_filtered.index, y=ticker_database_filtered['MACD'],\n",
    "                    mode='markers',\n",
    "                    name='fn MACD'),\n",
    "                    row=3, col=1)\n",
    "\n",
    "fig.add_trace(go.Scatter(x=ticker_database.index, y=ticker_database['Adj Close'],\n",
    "                    name='Closing Price'), \n",
    "                    row=4, col=1)\n",
    "\n",
    "fig.add_trace(go.Scatter(x=ticker_database_filtered.index, y=ticker_database_filtered['Adj Close'],\n",
    "                    mode='markers',\n",
    "                    name='fn Closing Price'),\n",
    "                    row=4, col=1)\n",
    "\n",
    "\n",
    "\n",
    "# Add range slider\n",
    "fig.update_layout(\n",
    "    showlegend=False,\n",
    "    title_text=\"Finding Falling Knives\",\n",
    "    #yaxis_title=\"Stochastic Oscillator\",\n",
    "    yaxis2_title=\"RSI\",\n",
    "    yaxis3_title=\"MACD\",\n",
    "    yaxis4_title=\"Closing Price\",\n",
    "    xaxis4_title=\"Timeframe\",\n",
    "    xaxis4_rangeslider_visible=True,\n",
    "    height=800,\n",
    "    width=1000,\n",
    "    xaxis4=dict(\n",
    "        rangeselector=dict(\n",
    "            buttons=list([\n",
    "                dict(count=1,\n",
    "                     label=\"1m\",\n",
    "                     step=\"month\",\n",
    "                     stepmode=\"backward\"),\n",
    "                dict(count=3,\n",
    "                     label=\"3m\",\n",
    "                     step=\"month\",\n",
    "                     stepmode=\"backward\"),\n",
    "                dict(count=1,\n",
    "                     label=\"YTD\",\n",
    "                     step=\"year\",\n",
    "                     stepmode=\"todate\"),\n",
    "                dict(count=1,\n",
    "                     label=\"1y\",\n",
    "                     step=\"year\",\n",
    "                     stepmode=\"backward\"),\n",
    "                dict(step=\"all\")\n",
    "            ])\n",
    "        ),\n",
    "        type=\"date\"\n",
    "    )\n",
    ")\n",
    "\n",
    "fig.show(config={'modeBarButtonsToAdd':['drawline',\n",
    "                                        'drawopenpath',\n",
    "                                        'drawclosedpath',\n",
    "                                        'drawcircle',\n",
    "                                        'drawrect',\n",
    "                                        'eraseshape'\n",
    "                                       ]})"
   ]
  },
  {
   "cell_type": "markdown",
   "metadata": {},
   "source": [
    "MA\n",
    "Bolling bands*\n",
    "fibonici sequence better\n",
    "elliot wave\n",
    "price to volume ratio\n",
    "oob\n",
    "adi\n",
    "*vwap: where the price starts to accumate, ex: does 1 person by 100,000 shares or does (P is above or below vwap)\n",
    "put and call ratio\n",
    "\n",
    "letting the user graph\n",
    "lines, circles\n",
    "\n"
   ]
  },
  {
   "cell_type": "markdown",
   "metadata": {},
   "source": [
    "9 21 45 90\n",
    "normal distubition\n",
    "3 version, extreme, moderate, light\n"
   ]
  },
  {
   "cell_type": "code",
   "execution_count": null,
   "metadata": {},
   "outputs": [],
   "source": []
  }
 ]
}
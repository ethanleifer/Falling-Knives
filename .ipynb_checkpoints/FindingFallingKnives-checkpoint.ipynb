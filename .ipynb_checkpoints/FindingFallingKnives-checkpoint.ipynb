{
 "cells": [
  {
   "cell_type": "code",
   "execution_count": 1,
   "metadata": {},
   "outputs": [],
   "source": [
    "# imports\n",
    "import pandas as pd\n",
    "import seaborn as sns\n",
    "import matplotlib.pyplot as plt\n",
    "sns.set_style(\"darkgrid\")"
   ]
  },
  {
   "cell_type": "code",
   "execution_count": 2,
   "metadata": {},
   "outputs": [],
   "source": [
    "def getTickerList(df):\n",
    "    return list(df[\"Ticker\"].unique())   \n",
    "\n",
    "def stockSetup(df, ticker):\n",
    "    '''the stock setup function cleans the dataframe and filters it according to a specific ticker you input'''\n",
    "    \n",
    "    stockData = df[df[\"Ticker\"]==ticker]\n",
    "\n",
    "    df = df.round(2)\n",
    "    \n",
    "    df = df.drop(\"Return\", axis=1)\n",
    "    \n",
    "    sector = df['GICS Sector'][0]\n",
    "    df = df.drop(\"GICS Sector\", axis=1)\n",
    "    \n",
    "    industry = df['GICS Sub Industry'][0]\n",
    "    df = df.drop(\"GICS Sub Industry\", axis=1)\n",
    "    \n",
    "    cik = df['CIK'][0]\n",
    "    df = df.drop(\"CIK\", axis=1)\n",
    "    \n",
    "    headLoc = df['Headquarters Location'][0]\n",
    "    df = df.drop(\"Headquarters Location\", axis=1)\n",
    "    \n",
    "    DateFirstAdded = df['Date first added'][0]\n",
    "    df = df.drop(\"Date first added\", axis=1)\n",
    "    \n",
    "    founded = df['Founded'][0]\n",
    "    df = df.drop(\"Founded\", axis=1)\n",
    "\n",
    "    df = df.drop(\"Ticker\", axis=1)\n",
    "    \n",
    "    company = df[\"Company\"][0]\n",
    "    df = df.drop(\"Company\", axis=1)\n",
    "    \n",
    "    df['Date'] = pd.to_datetime(df['Date'])\n",
    "    df = df.set_index('Date')\n",
    "    \n",
    "    return (df, sector, industry, cik, headLoc, DateFirstAdded, founded)\n"
   ]
  },
  {
   "cell_type": "code",
   "execution_count": 3,
   "metadata": {},
   "outputs": [],
   "source": [
    "def generateRSI(df, period=14):\n",
    "  return RSIIndicator(df[\"Adj Close\"], period).rsi()\n",
    "\n",
    "def generateMACD(df, periodShort=12, periodLong=26):\n",
    "  return MACD(df[\"Adj Close\"], n_slow=periodShort, n_fast=periodLong).macd()\n",
    "\n",
    "def generateMACDSignal(df, period=9):\n",
    "  return MACD(df[\"Adj Close\"], n_sign=period).macd_signal()\n",
    "\n",
    "def generateMACDDiff(df, periodShort=12, periodLong=26, periodSign=9):\n",
    "  return MACD(df[\"Adj Close\"], n_slow=periodShort, n_fast=periodLong, n_sign=periodSign).macd_diff()\n",
    "\n",
    "def generatePercentageChange(df):\n",
    "  return df[\"Adj Close\"].pct_change()*100\n",
    "\n",
    "def generateSMA(df, period=7):\n",
    "    return df['Adj Close'].rolling(window=SmaWindow).mean()"
   ]
  },
  {
   "cell_type": "code",
   "execution_count": 4,
   "metadata": {},
   "outputs": [],
   "source": [
    "def plotAdjClose(df, size=(15,6)):\n",
    "  print(\"before plot\")\n",
    "  plt.figure(figsize=(size))\n",
    "  sns.lineplot(x = df.index, y=df['Adj Close'])\n",
    "  plt.show()\n",
    "  print(\"after plot\")"
   ]
  },
  {
   "cell_type": "code",
   "execution_count": 5,
   "metadata": {},
   "outputs": [],
   "source": [
    "def findFallingKnives(df, ticker, window=4, SMAPeriod=7, ):\n",
    "    # allows you to find fallingKnives based on a stock ticker and a condition of RSI, MACD and a SMA\n",
    "    # you have to change the conditions within this function\n",
    "\n",
    "    df[\"RSI\"] = generateRSI(df)\n",
    "    df[\"MACD\"] = generateMACD(df)\n",
    "    df[\"SMA\"] = generateSMA(df)\n",
    "\n",
    "    # these are the condition statements below: I couldnt figure out how to keep them in one line so..\n",
    "    fallingKniveDf = newDf[newDf[\"MACD\"] <= -.5]\n",
    "    fallingKniveDf = newDf[newDf['Adj Close'] < newDf['SMA']]\n",
    "    fallingKniveDf = newDf[newDf['RSI'] <40]\n",
    "\n",
    "\n",
    "    # takes the filtered df from above and graphs a specific interval around that date\n",
    "    aroundIndex = []\n",
    "    for date in fallingKniveDf.index:\n",
    "      aroundIndex.append(pd.date_range(start=date - timedelta(weeks=window/2), end=date+ timedelta(weeks=window/2)))\n",
    "\n",
    "    FallingKnifeSubset = []\n",
    "    for dates in aroundIndex:\n",
    "        FallingKnifeSubset.append(newDf[newDf.index.isin(dates)])\n",
    "    return FallingKnifeSubset"
   ]
  },
  {
   "cell_type": "code",
   "execution_count": 6,
   "metadata": {},
   "outputs": [],
   "source": [
    "def getOption(options, statement):\n",
    "    # precondition: statement has to have the options all ready formated.\n",
    "\n",
    "    # statemnt is a string that is all of the items of options (pre-formatted) so you can show what each option does (useful for menu lists)\n",
    "    # asks the user for intial input\n",
    "    # better formated confirmOption (better for a list with more than just 2 options)\n",
    "\n",
    "    # prints formated options for user to sepect\n",
    "    print(statement)\n",
    "    # makes sure the user enters an input which is an option\n",
    "    userinput = input(\"Please enter a option: \")\n",
    "    while not(userinput in options):\n",
    "        print(\"INVALID INPUT! Please try again:\\n\" + statement)\n",
    "        userinput = input(\"Please enter a option: \")\n",
    "\n",
    "    # returns checked user input\n",
    "    return userinput"
   ]
  },
  {
   "cell_type": "code",
   "execution_count": 7,
   "metadata": {},
   "outputs": [],
   "source": [
    "def filter_dates(df):\n",
    "    start_date = input(\"Enter start date in format MM-DD-YYYY \")\n",
    "    end_date = input(\"Enter end date in format MM-DD-YYYY \")\n",
    "    df = df.loc[start_date:end_date]\n",
    "    return df"
   ]
  },
  {
   "cell_type": "markdown",
   "metadata": {},
   "source": [
    "main method"
   ]
  },
  {
   "cell_type": "code",
   "execution_count": 8,
   "metadata": {},
   "outputs": [
    {
     "name": "stderr",
     "output_type": "stream",
     "text": [
      "/opt/anaconda3/lib/python3.7/site-packages/IPython/core/interactiveshell.py:3063: DtypeWarning: Columns (15) have mixed types.Specify dtype option on import or set low_memory=False.\n",
      "  interactivity=interactivity, compiler=compiler, result=result)\n"
     ]
    }
   ],
   "source": [
    "SAndPData = pd.read_csv(\"database2.csv\")"
   ]
  },
  {
   "cell_type": "code",
   "execution_count": 9,
   "metadata": {},
   "outputs": [],
   "source": [
    "options = ['0', '1', '2', '3', '4', '5', '6']\n",
    "statement = \"\\n'0' to quit\\\n",
    "            \\n'1' select new ticker\\\n",
    "            \\n'2' to plot stock indicators and price\\\n",
    "            \\n'3' change timeframe\\\n",
    "            \\n'4' reset timeframe\\\n",
    "            \\n'5' to change falling knife conditions\\\n",
    "            \\n'6' to select falling knife and plot stock indicators and price\""
   ]
  },
  {
   "cell_type": "code",
   "execution_count": 10,
   "metadata": {},
   "outputs": [],
   "source": [
    "def plottingManager(df):\n",
    "        pass\n",
    "    #plotOptions = ['0', '1', '2', '3', '4']\n",
    "    #plotStatement = \"\\n'0' to go back\\\n",
    "            #\\n'1' to plot closing price\\\n",
    "            #\\n'2' to plot Volume\\\n",
    "            #\\n'3' to plot RSI\\\n",
    "            #\\n'4' to plot MACD\"\n"
   ]
  },
  {
   "cell_type": "code",
   "execution_count": null,
   "metadata": {
    "tags": []
   },
   "outputs": [
    {
     "name": "stdout",
     "output_type": "stream",
     "text": [
      "Please enter a ticker: jnj\n",
      "\n",
      "'0' to quit            \n",
      "'1' select new ticker            \n",
      "'2' to plot stock indicators and price            \n",
      "'3' change timeframe            \n",
      "'4' reset timeframe            \n",
      "'5' to change falling knife conditions            \n",
      "'6' to select falling knife and plot stock indicators and price\n",
      "Please enter a option: 3\n",
      "Enter start date in format MM-DD-YYYY 01-01-2019\n",
      "Enter end date in format MM-DD-YYYY 01-01-2020\n",
      "\n",
      "'0' to quit            \n",
      "'1' select new ticker            \n",
      "'2' to plot stock indicators and price            \n",
      "'3' change timeframe            \n",
      "'4' reset timeframe            \n",
      "'5' to change falling knife conditions            \n",
      "'6' to select falling knife and plot stock indicators and price\n",
      "Please enter a option: 2\n",
      "before plot\n"
     ]
    },
    {
     "data": {
      "image/png": "[encoded data removed]",
      "text/plain": [
       "<Figure size 1080x432 with 1 Axes>"
      ]
     },
     "metadata": {},
     "output_type": "display_data"
    },
    {
     "name": "stdout",
     "output_type": "stream",
     "text": [
      "after plot\n",
      "\n",
      "'0' to quit            \n",
      "'1' select new ticker            \n",
      "'2' to plot stock indicators and price            \n",
      "'3' change timeframe            \n",
      "'4' reset timeframe            \n",
      "'5' to change falling knife conditions            \n",
      "'6' to select falling knife and plot stock indicators and price\n",
      "Please enter a option: 6\n",
      "INVALID INPUT! Please try again:\n",
      "\n",
      "'0' to quit            \n",
      "'1' select new ticker            \n",
      "'2' to plot stock indicators and price            \n",
      "'3' change timeframe            \n",
      "'4' reset timeframe            \n",
      "'5' to change falling knife conditions            \n",
      "'6' to select falling knife and plot stock indicators and price\n"
     ]
    }
   ],
   "source": [
    "option = '1'\n",
    "while option != '0':\n",
    "\n",
    "    if option == '1':\n",
    "        ticker = input(\"Please enter a ticker: \")\n",
    "        while not(ticker.upper() in getTickerList(SAndPData)):\n",
    "            print(\"Ticker is not valid. Please try again. \")\n",
    "            ticker = input(\"Please enter a ticker: \")\n",
    "        \n",
    "        stockData = stockSetup(SAndPData, ticker)[0]\n",
    "        stockDataBackup = stockData\n",
    "\n",
    "    if option == '2':\n",
    "        # TO DO: build out plotting function, add more indicators\n",
    "        #plottingManager(stockData)\n",
    "        plotAdjClose(stockData)\n",
    "\n",
    "    if option == '3':\n",
    "        # TO DO: verify dates\n",
    "        stockData = filter_dates(stockData)\n",
    "    \n",
    "    if option == '4':\n",
    "        stockData = stockDataBackup\n",
    "    \n",
    "    if option == '5':\n",
    "        # TO DO: build out falling knife conditions\n",
    "        pass\n",
    "\n",
    "    if option == '6':\n",
    "        fallingKnifeData = findFallingKnives(stockData)\n",
    "        # figure out how to have the user select a specific falling knife\n",
    "        fallingKnife = fallingKnifeData[0]\n",
    "        plotAdjClose(fallingKnife)\n",
    "\n",
    "\n",
    "    option = getOption(options, statement)"
   ]
  },
  {
   "cell_type": "code",
   "execution_count": null,
   "metadata": {},
   "outputs": [],
   "source": []
  },
  {
   "cell_type": "code",
   "execution_count": null,
   "metadata": {},
   "outputs": [],
   "source": []
  }
 ],
 "metadata": {
  "kernelspec": {
   "display_name": "Python 3",
   "language": "python",
   "name": "python3"
  },
  "language_info": {
   "codemirror_mode": {
    "name": "ipython",
    "version": 3
   },
   "file_extension": ".py",
   "mimetype": "text/x-python",
   "name": "python",
   "nbconvert_exporter": "python",
   "pygments_lexer": "ipython3",
   "version": "3.7.6"
  }
 },
 "nbformat": 4,
 "nbformat_minor": 2
}

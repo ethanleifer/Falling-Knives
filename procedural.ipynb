{
 "metadata": {
  "language_info": {
   "codemirror_mode": {
    "name": "ipython",
    "version": 3
   },
   "file_extension": ".py",
   "mimetype": "text/x-python",
   "name": "python",
   "nbconvert_exporter": "python",
   "pygments_lexer": "ipython3",
   "version": 3
  },
  "orig_nbformat": 2,
  "kernelspec": {
   "name": "python_defaultSpec_1595471070768",
   "display_name": "Python 3.7.6 64-bit ('base': conda)"
  }
 },
 "nbformat": 4,
 "nbformat_minor": 2,
 "cells": [
  {
   "cell_type": "markdown",
   "metadata": {},
   "source": [
    "# hi"
   ]
  },
  {
   "cell_type": "code",
   "execution_count": 18,
   "metadata": {},
   "outputs": [],
   "source": [
    "ticker = \"AAPL\" # Uppercase stock ticker in the S&P 500\n",
    "\n",
    "start_date = '01-01-2018' # Enter start date in format 'MM-DD-YYYY'\n",
    "end_date = '04-01-2018' # Enter end date in format 'MM-DD-YYYY'\n",
    "\n",
    "enable_RSI = False # True to filter based on RSI condition, False !!!!!\n",
    "RSI_period = 14\n",
    "RSI_conditional_value = 40  # [overbought, oversold]: To be considered a falling knife RSI has to be outside of these two values\n",
    "\n",
    "enable_MACD = True\n",
    "MACD_short_term_period = 12\n",
    "MACD_long_term_period = 26\n",
    "MACD_conditional_value = -.5\n",
    "\n",
    "graph_RSI = False # True to graph, False to not\n",
    "graph_closing_price = False # True to graph, False to not graph"
   ]
  },
  {
   "cell_type": "code",
   "execution_count": 19,
   "metadata": {},
   "outputs": [],
   "source": [
    "import pandas as pd\n",
    "import numpy as np\n",
    "import matplotlib.pyplot as plt\n",
    "import matplotlib as style\n",
    "import matplotlib.dates as mdates\n",
    "import plotly.graph_objs as go\n",
    "import seaborn as sns\n",
    "sns.set_style(\"darkgrid\")\n",
    "from ta.momentum import RSIIndicator\n",
    "from ta.trend import MACD\n",
    "from datetime import datetime, timedelta\n",
    "SP_500_database = pd.read_csv(\"database2.csv\")"
   ]
  },
  {
   "cell_type": "code",
   "execution_count": 20,
   "metadata": {
    "tags": []
   },
   "outputs": [
    {
     "output_type": "stream",
     "name": "stdout",
     "text": "\nfiltering data based on conditions...\nThere are 20 falling knives\n           Ticker     Company    Open   Close  Adj Close  Return    High  \\\nDate                                                                       \n2018-02-23   AAPL  Apple Inc.  173.67  175.50     170.63     NaN  175.65   \n2018-02-26   AAPL  Apple Inc.  176.35  178.97     174.01     NaN  179.39   \n2018-02-27   AAPL  Apple Inc.  179.10  178.39     173.44     NaN  180.48   \n2018-02-28   AAPL  Apple Inc.  179.26  178.12     173.18     NaN  180.62   \n2018-03-01   AAPL  Apple Inc.  178.54  175.00     170.15     NaN  179.78   \n2018-03-02   AAPL  Apple Inc.  172.80  176.21     171.32     NaN  176.30   \n2018-03-05   AAPL  Apple Inc.  175.21  176.82     171.92     NaN  177.74   \n2018-03-06   AAPL  Apple Inc.  177.91  176.67     171.77     NaN  178.25   \n2018-03-07   AAPL  Apple Inc.  174.94  175.03     170.18     NaN  175.85   \n2018-03-08   AAPL  Apple Inc.  175.48  176.94     172.03     NaN  177.12   \n2018-03-09   AAPL  Apple Inc.  177.96  179.98     174.99     NaN  180.00   \n2018-03-12   AAPL  Apple Inc.  180.29  181.72     176.68     NaN  182.39   \n2018-03-13   AAPL  Apple Inc.  182.59  179.97     174.98     NaN  183.50   \n2018-03-14   AAPL  Apple Inc.  180.32  178.44     173.49     NaN  180.52   \n2018-03-15   AAPL  Apple Inc.  178.50  178.65     173.70     NaN  180.24   \n2018-03-16   AAPL  Apple Inc.  178.65  178.02     173.08     NaN  179.12   \n2018-03-19   AAPL  Apple Inc.  177.32  175.30     170.44     NaN  177.47   \n2018-03-20   AAPL  Apple Inc.  175.24  175.24     170.38     NaN  176.80   \n2018-03-21   AAPL  Apple Inc.  175.04  171.27     166.52     NaN  175.09   \n2018-03-22   AAPL  Apple Inc.  170.00  168.85     164.17     NaN  172.68   \n\n               Low      Volume             GICS Sector  \\\nDate                                                     \n2018-02-23  173.54  33812400.0  Information Technology   \n2018-02-26  176.21  38162200.0  Information Technology   \n2018-02-27  178.16  38928100.0  Information Technology   \n2018-02-28  178.05  37782100.0  Information Technology   \n2018-03-01  172.66  48802000.0  Information Technology   \n2018-03-02  172.45  38454000.0  Information Technology   \n2018-03-05  174.52  28401400.0  Information Technology   \n2018-03-06  176.13  23788500.0  Information Technology   \n2018-03-07  174.27  31703500.0  Information Technology   \n2018-03-08  175.07  23774100.0  Information Technology   \n2018-03-09  177.39  32185200.0  Information Technology   \n2018-03-12  180.21  32207100.0  Information Technology   \n2018-03-13  179.24  31693500.0  Information Technology   \n2018-03-14  177.81  29368400.0  Information Technology   \n2018-03-15  178.07  22743800.0  Information Technology   \n2018-03-16  177.62  39404700.0  Information Technology   \n2018-03-19  173.66  33446800.0  Information Technology   \n2018-03-20  174.94  19649400.0  Information Technology   \n2018-03-21  171.26  37054900.0  Information Technology   \n2018-03-22  168.60  41490800.0  Information Technology   \n\n                                     GICS Sub Industry       CIK  \\\nDate                                                               \n2018-02-23  Technology Hardware, Storage & Peripherals  320193.0   \n2018-02-26  Technology Hardware, Storage & Peripherals  320193.0   \n2018-02-27  Technology Hardware, Storage & Peripherals  320193.0   \n2018-02-28  Technology Hardware, Storage & Peripherals  320193.0   \n2018-03-01  Technology Hardware, Storage & Peripherals  320193.0   \n2018-03-02  Technology Hardware, Storage & Peripherals  320193.0   \n2018-03-05  Technology Hardware, Storage & Peripherals  320193.0   \n2018-03-06  Technology Hardware, Storage & Peripherals  320193.0   \n2018-03-07  Technology Hardware, Storage & Peripherals  320193.0   \n2018-03-08  Technology Hardware, Storage & Peripherals  320193.0   \n2018-03-09  Technology Hardware, Storage & Peripherals  320193.0   \n2018-03-12  Technology Hardware, Storage & Peripherals  320193.0   \n2018-03-13  Technology Hardware, Storage & Peripherals  320193.0   \n2018-03-14  Technology Hardware, Storage & Peripherals  320193.0   \n2018-03-15  Technology Hardware, Storage & Peripherals  320193.0   \n2018-03-16  Technology Hardware, Storage & Peripherals  320193.0   \n2018-03-19  Technology Hardware, Storage & Peripherals  320193.0   \n2018-03-20  Technology Hardware, Storage & Peripherals  320193.0   \n2018-03-21  Technology Hardware, Storage & Peripherals  320193.0   \n2018-03-22  Technology Hardware, Storage & Peripherals  320193.0   \n\n            Headquarters Location Date first added Founded      MACD  \\\nDate                                                                   \n2018-02-23  Cupertino, California       1982-11-30    1977 -0.695790   \n2018-02-26  Cupertino, California       1982-11-30    1977 -1.383389   \n2018-02-27  Cupertino, California       1982-11-30    1977 -1.860870   \n2018-02-28  Cupertino, California       1982-11-30    1977 -2.193018   \n2018-03-01  Cupertino, California       1982-11-30    1977 -2.186547   \n2018-03-02  Cupertino, California       1982-11-30    1977 -2.249892   \n2018-03-05  Cupertino, California       1982-11-30    1977 -2.321745   \n2018-03-06  Cupertino, California       1982-11-30    1977 -2.339616   \n2018-03-07  Cupertino, California       1982-11-30    1977 -2.200117   \n2018-03-08  Cupertino, California       1982-11-30    1977 -2.213329   \n2018-03-09  Cupertino, California       1982-11-30    1977 -2.434583   \n2018-03-12  Cupertino, California       1982-11-30    1977 -2.715000   \n2018-03-13  Cupertino, California       1982-11-30    1977 -2.768147   \n2018-03-14  Cupertino, California       1982-11-30    1977 -2.659381   \n2018-03-15  Cupertino, California       1982-11-30    1977 -2.560610   \n2018-03-16  Cupertino, California       1982-11-30    1977 -2.404587   \n2018-03-19  Cupertino, California       1982-11-30    1977 -2.044345   \n2018-03-20  Cupertino, California       1982-11-30    1977 -1.734021   \n2018-03-21  Cupertino, California       1982-11-30    1977 -1.163208   \n2018-03-22  Cupertino, California       1982-11-30    1977 -0.515270   \n\n                  RSI  \nDate                   \n2018-02-23  61.351409  \n2018-02-26  65.400738  \n2018-02-27  64.179532  \n2018-02-28  63.596194  \n2018-03-01  57.084472  \n2018-03-02  58.837135  \n2018-03-05  59.745066  \n2018-03-06  59.392368  \n2018-03-07  55.642647  \n2018-03-08  58.894477  \n2018-03-09  63.504529  \n2018-03-12  65.858838  \n2018-03-13  61.557047  \n2018-03-14  57.982243  \n2018-03-15  58.349368  \n2018-03-16  56.772215  \n2018-03-19  50.511488  \n2018-03-20  50.375518  \n2018-03-21  42.457362  \n2018-03-22  38.490697  \n"
    },
    {
     "output_type": "execute_result",
     "data": {
      "text/plain": "'\\n# takes the filtered df from above and graphs a specific interval around that date\\nprint(\"\\nCreating new dataframes...\")\\naroundIndex = []\\nfor date in fallingKniveDf.index:\\n    aroundIndex.append(pd.date_range(start=date - timedelta(weeks=window/2), end=date+ timedelta(weeks=window/2)))\\n\\nFallingKnifeSubset = []\\nfor dates in aroundIndex:\\n    FallingKnifeSubset.append(df[df.index.isin(dates)])\\n'"
     },
     "metadata": {},
     "execution_count": 20
    }
   ],
   "source": [
    "# cleans aznd reformats the database based on the ticker\n",
    "ticker_database = SP_500_database[SP_500_database[\"Ticker\"]==ticker]\n",
    "ticker_database = ticker_database.round(2)\n",
    "ticker_database['Date'] = pd.to_datetime(ticker_database['Date'])\n",
    "ticker_database = ticker_database.set_index('Date')\n",
    "\n",
    "#print(ticker_database.head(-5))\n",
    "#filters database based on your choosen start and end date\n",
    "ticker_database = ticker_database.loc[start_date:end_date]\n",
    "#print(ticker_database.head(-5))\n",
    "\n",
    "\n",
    "\n",
    "# creates indicator data\n",
    "ticker_database['MACD'] = MACD(ticker_database[\"Adj Close\"], n_slow=MACD_short_term_period, n_fast=MACD_long_term_period).macd()\n",
    "ticker_database['RSI'] = RSIIndicator(ticker_database[\"Adj Close\"], RSI_period).rsi()\n",
    "ticker_database_filtered = ticker_database\n",
    "\n",
    "# these are the condition statements below: I couldnt figure out how to keep them in one line so..\n",
    "print(\"\\nfiltering data based on conditions...\")\n",
    "if enable_RSI:\n",
    "    ticker_database_filtered = ticker_database_filtered[ticker_database_filtered['RSI'] < RSI_conditional_value]\n",
    "\n",
    "if enable_MACD:\n",
    "    ticker_database_filtered = ticker_database_filtered[ticker_database_filtered[\"MACD\"] <= MACD_conditional_value]\n",
    "#\n",
    "# fallingKniveDf = df[df['Adj Close'] < df['SMA']]\n",
    "\n",
    "print(\"There are \" + str(len(ticker_database_filtered)) + \" falling knives\")\n",
    "print(ticker_database_filtered)\n",
    "\n",
    "# takes the filtered df from above and graphs a specific interval around that date\n",
    "print(\"\\nCreating new dataframes...\")\n",
    "aroundIndex = []\n",
    "for date in ticker_database_filtered.index:\n",
    "    aroundIndex.append(pd.date_range(start=date - timedelta(weeks=window/2), end=date+ timedelta(weeks=window/2)))\n",
    "\n",
    "FallingKnifeSubset = []\n",
    "for dates in aroundIndex:\n",
    "    FallingKnifeSubset.append(df[df.index.isin(dates)])\n"
   ]
  },
  {
   "cell_type": "code",
   "execution_count": null,
   "metadata": {},
   "outputs": [],
   "source": []
  },
  {
   "cell_type": "code",
   "execution_count": null,
   "metadata": {},
   "outputs": [],
   "source": []
  }
 ]
}